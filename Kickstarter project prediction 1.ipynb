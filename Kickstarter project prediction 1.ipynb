{
 "cells": [
  {
   "cell_type": "markdown",
   "id": "1cb74851",
   "metadata": {},
   "source": [
    "# Import Library"
   ]
  },
  {
   "cell_type": "code",
   "execution_count": 1,
   "id": "9eb1604e",
   "metadata": {},
   "outputs": [],
   "source": [
    "import pandas as pd\n",
    "import seaborn as sns\n",
    "import numpy as np\n",
    "import matplotlib.pyplot as plt\n",
    "from sklearn.metrics import accuracy_score \n",
    "from sklearn.neighbors import KNeighborsClassifier\n",
    "from sklearn.tree import DecisionTreeClassifier\n",
    "from sklearn.ensemble import RandomForestClassifier, GradientBoostingClassifier\n",
    "from sklearn.naive_bayes import GaussianNB\n",
    "from sklearn.model_selection import train_test_split\n",
    "from sklearn import preprocessing"
   ]
  },
  {
   "cell_type": "markdown",
   "id": "5e17ba92",
   "metadata": {},
   "source": [
    "# Import Data"
   ]
  },
  {
   "cell_type": "code",
   "execution_count": 2,
   "id": "9e402d52",
   "metadata": {},
   "outputs": [
    {
     "name": "stderr",
     "output_type": "stream",
     "text": [
      "c:\\users\\hercules\\python\\python38\\lib\\site-packages\\IPython\\core\\interactiveshell.py:3441: DtypeWarning: Columns (13,14,15) have mixed types.Specify dtype option on import or set low_memory=False.\n",
      "  exec(code_obj, self.user_global_ns, self.user_ns)\n"
     ]
    },
    {
     "data": {
      "text/html": [
       "<div>\n",
       "<style scoped>\n",
       "    .dataframe tbody tr th:only-of-type {\n",
       "        vertical-align: middle;\n",
       "    }\n",
       "\n",
       "    .dataframe tbody tr th {\n",
       "        vertical-align: top;\n",
       "    }\n",
       "\n",
       "    .dataframe thead th {\n",
       "        text-align: right;\n",
       "    }\n",
       "</style>\n",
       "<table border=\"1\" class=\"dataframe\">\n",
       "  <thead>\n",
       "    <tr style=\"text-align: right;\">\n",
       "      <th></th>\n",
       "      <th>ID</th>\n",
       "      <th>name</th>\n",
       "      <th>category</th>\n",
       "      <th>main_category</th>\n",
       "      <th>currency</th>\n",
       "      <th>deadline</th>\n",
       "      <th>goal</th>\n",
       "      <th>launched</th>\n",
       "      <th>pledged</th>\n",
       "      <th>state</th>\n",
       "      <th>backers</th>\n",
       "      <th>country</th>\n",
       "      <th>usd pledged</th>\n",
       "      <th>Unnamed: 13</th>\n",
       "      <th>Unnamed: 14</th>\n",
       "      <th>Unnamed: 15</th>\n",
       "      <th>Unnamed: 16</th>\n",
       "    </tr>\n",
       "  </thead>\n",
       "  <tbody>\n",
       "    <tr>\n",
       "      <th>0</th>\n",
       "      <td>1000002330</td>\n",
       "      <td>The Songs of Adelaide &amp; Abullah</td>\n",
       "      <td>Poetry</td>\n",
       "      <td>Publishing</td>\n",
       "      <td>GBP</td>\n",
       "      <td>2015-10-09 11:36:00</td>\n",
       "      <td>1000</td>\n",
       "      <td>2015-08-11 12:12:28</td>\n",
       "      <td>0</td>\n",
       "      <td>failed</td>\n",
       "      <td>0</td>\n",
       "      <td>GB</td>\n",
       "      <td>0</td>\n",
       "      <td>NaN</td>\n",
       "      <td>NaN</td>\n",
       "      <td>NaN</td>\n",
       "      <td>NaN</td>\n",
       "    </tr>\n",
       "    <tr>\n",
       "      <th>1</th>\n",
       "      <td>1000004038</td>\n",
       "      <td>Where is Hank?</td>\n",
       "      <td>Narrative Film</td>\n",
       "      <td>Film &amp; Video</td>\n",
       "      <td>USD</td>\n",
       "      <td>2013-02-26 00:20:50</td>\n",
       "      <td>45000</td>\n",
       "      <td>2013-01-12 00:20:50</td>\n",
       "      <td>220</td>\n",
       "      <td>failed</td>\n",
       "      <td>3</td>\n",
       "      <td>US</td>\n",
       "      <td>220</td>\n",
       "      <td>NaN</td>\n",
       "      <td>NaN</td>\n",
       "      <td>NaN</td>\n",
       "      <td>NaN</td>\n",
       "    </tr>\n",
       "    <tr>\n",
       "      <th>2</th>\n",
       "      <td>1000007540</td>\n",
       "      <td>ToshiCapital Rekordz Needs Help to Complete Album</td>\n",
       "      <td>Music</td>\n",
       "      <td>Music</td>\n",
       "      <td>USD</td>\n",
       "      <td>2012-04-16 04:24:11</td>\n",
       "      <td>5000</td>\n",
       "      <td>2012-03-17 03:24:11</td>\n",
       "      <td>1</td>\n",
       "      <td>failed</td>\n",
       "      <td>1</td>\n",
       "      <td>US</td>\n",
       "      <td>1</td>\n",
       "      <td>NaN</td>\n",
       "      <td>NaN</td>\n",
       "      <td>NaN</td>\n",
       "      <td>NaN</td>\n",
       "    </tr>\n",
       "    <tr>\n",
       "      <th>3</th>\n",
       "      <td>1000011046</td>\n",
       "      <td>Community Film Project: The Art of Neighborhoo...</td>\n",
       "      <td>Film &amp; Video</td>\n",
       "      <td>Film &amp; Video</td>\n",
       "      <td>USD</td>\n",
       "      <td>2015-08-29 01:00:00</td>\n",
       "      <td>19500</td>\n",
       "      <td>2015-07-04 08:35:03</td>\n",
       "      <td>1283</td>\n",
       "      <td>canceled</td>\n",
       "      <td>14</td>\n",
       "      <td>US</td>\n",
       "      <td>1283</td>\n",
       "      <td>NaN</td>\n",
       "      <td>NaN</td>\n",
       "      <td>NaN</td>\n",
       "      <td>NaN</td>\n",
       "    </tr>\n",
       "    <tr>\n",
       "      <th>4</th>\n",
       "      <td>1000014025</td>\n",
       "      <td>Monarch Espresso Bar</td>\n",
       "      <td>Restaurants</td>\n",
       "      <td>Food</td>\n",
       "      <td>USD</td>\n",
       "      <td>2016-04-01 13:38:27</td>\n",
       "      <td>50000</td>\n",
       "      <td>2016-02-26 13:38:27</td>\n",
       "      <td>52375</td>\n",
       "      <td>successful</td>\n",
       "      <td>224</td>\n",
       "      <td>US</td>\n",
       "      <td>52375</td>\n",
       "      <td>NaN</td>\n",
       "      <td>NaN</td>\n",
       "      <td>NaN</td>\n",
       "      <td>NaN</td>\n",
       "    </tr>\n",
       "  </tbody>\n",
       "</table>\n",
       "</div>"
      ],
      "text/plain": [
       "          ID                                               name   \\\n",
       "0  1000002330                    The Songs of Adelaide & Abullah   \n",
       "1  1000004038                                     Where is Hank?   \n",
       "2  1000007540  ToshiCapital Rekordz Needs Help to Complete Album   \n",
       "3  1000011046  Community Film Project: The Art of Neighborhoo...   \n",
       "4  1000014025                               Monarch Espresso Bar   \n",
       "\n",
       "        category  main_category  currency             deadline   goal   \\\n",
       "0          Poetry     Publishing       GBP  2015-10-09 11:36:00   1000   \n",
       "1  Narrative Film   Film & Video       USD  2013-02-26 00:20:50  45000   \n",
       "2           Music          Music       USD  2012-04-16 04:24:11   5000   \n",
       "3    Film & Video   Film & Video       USD  2015-08-29 01:00:00  19500   \n",
       "4     Restaurants           Food       USD  2016-04-01 13:38:27  50000   \n",
       "\n",
       "             launched  pledged       state  backers  country  usd pledged   \\\n",
       "0  2015-08-11 12:12:28        0      failed        0       GB            0   \n",
       "1  2013-01-12 00:20:50      220      failed        3       US          220   \n",
       "2  2012-03-17 03:24:11        1      failed        1       US            1   \n",
       "3  2015-07-04 08:35:03     1283    canceled       14       US         1283   \n",
       "4  2016-02-26 13:38:27    52375  successful      224       US        52375   \n",
       "\n",
       "  Unnamed: 13 Unnamed: 14 Unnamed: 15  Unnamed: 16  \n",
       "0         NaN         NaN         NaN          NaN  \n",
       "1         NaN         NaN         NaN          NaN  \n",
       "2         NaN         NaN         NaN          NaN  \n",
       "3         NaN         NaN         NaN          NaN  \n",
       "4         NaN         NaN         NaN          NaN  "
      ]
     },
     "execution_count": 2,
     "metadata": {},
     "output_type": "execute_result"
    }
   ],
   "source": [
    "# read the data from Dataset.csv with encoding ISO-8859-1\n",
    "dataframe = pd.read_csv('Dataset.csv',encoding='ISO-8859-1')\n",
    "\n",
    "# show first 5 rows from the data frame.\n",
    "dataframe.head()"
   ]
  },
  {
   "cell_type": "code",
   "execution_count": 3,
   "id": "97682727",
   "metadata": {},
   "outputs": [
    {
     "name": "stdout",
     "output_type": "stream",
     "text": [
      "<class 'pandas.core.frame.DataFrame'>\n",
      "RangeIndex: 323750 entries, 0 to 323749\n",
      "Data columns (total 17 columns):\n",
      " #   Column          Non-Null Count   Dtype  \n",
      "---  ------          --------------   -----  \n",
      " 0   ID              323750 non-null  int64  \n",
      " 1   name            323746 non-null  object \n",
      " 2   category        323745 non-null  object \n",
      " 3   main_category   323750 non-null  object \n",
      " 4   currency        323750 non-null  object \n",
      " 5   deadline        323750 non-null  object \n",
      " 6   goal            323750 non-null  object \n",
      " 7   launched        323750 non-null  object \n",
      " 8   pledged         323750 non-null  object \n",
      " 9   state           323750 non-null  object \n",
      " 10  backers         323750 non-null  object \n",
      " 11  country         323750 non-null  object \n",
      " 12  usd pledged     319960 non-null  object \n",
      " 13  Unnamed: 13     625 non-null     object \n",
      " 14  Unnamed: 14     12 non-null      object \n",
      " 15  Unnamed: 15     4 non-null       object \n",
      " 16  Unnamed: 16     1 non-null       float64\n",
      "dtypes: float64(1), int64(1), object(15)\n",
      "memory usage: 42.0+ MB\n"
     ]
    }
   ],
   "source": [
    "# To show information and data types of the data attributes.\n",
    "dataframe.info()"
   ]
  },
  {
   "cell_type": "code",
   "execution_count": 4,
   "id": "2665c545",
   "metadata": {},
   "outputs": [],
   "source": [
    "# Renaming columns bcoz they contain spaces in their names in the Dataframe\n",
    "dataframe.rename(columns={'ID ':'ID',\n",
    "                     'name ':'name',\n",
    "                     'category ':'category',\n",
    "                     'main_category ':'main_category',\n",
    "                     'currency ':'currency',\n",
    "                     'deadline ':'deadline',\n",
    "                     'goal ':'goal',\n",
    "                     'launched ':'launched',\n",
    "                     'pledged ':'pledged',\n",
    "                     'state ':'state',\n",
    "                     'backers ':'backers',\n",
    "                     'country ':'country',\n",
    "                     'usd pledged ':'usd pledged'},inplace=True)"
   ]
  },
  {
   "cell_type": "markdown",
   "id": "d9f13c42",
   "metadata": {},
   "source": [
    "# Exploratory Data Analysis (EDA)"
   ]
  },
  {
   "cell_type": "markdown",
   "id": "d7c61315",
   "metadata": {},
   "source": [
    "## Data Visualization"
   ]
  },
  {
   "cell_type": "code",
   "execution_count": 5,
   "id": "87d15601",
   "metadata": {},
   "outputs": [
    {
     "data": {
      "text/plain": [
       "False"
      ]
     },
     "execution_count": 5,
     "metadata": {},
     "output_type": "execute_result"
    }
   ],
   "source": [
    "dataframe['state'].isnull().any()"
   ]
  },
  {
   "cell_type": "code",
   "execution_count": 6,
   "id": "4ebb3633",
   "metadata": {
    "scrolled": false
   },
   "outputs": [
    {
     "data": {
      "text/plain": [
       "failed        51.960154\n",
       "successful    34.928494\n",
       "canceled       9.993514\n",
       "live           1.367722\n",
       "undefined      1.098069\n",
       "                ...    \n",
       "2312           0.000309\n",
       "320            0.000309\n",
       "477            0.000309\n",
       "1404           0.000309\n",
       "2634           0.000309\n",
       "Name: state, Length: 410, dtype: float64"
      ]
     },
     "execution_count": 6,
     "metadata": {},
     "output_type": "execute_result"
    }
   ],
   "source": [
    "# projects state ratio\n",
    "(dataframe['state'].value_counts()/len(dataframe))*100"
   ]
  },
  {
   "cell_type": "code",
   "execution_count": 7,
   "id": "54d40322",
   "metadata": {},
   "outputs": [],
   "source": [
    "# Filtering State column by dropping other columns rather than successful and failed\n",
    "dataframe=dataframe.drop(dataframe.query(\"state != 'successful' and state != 'failed'\").index, axis=0).reset_index(drop=True)"
   ]
  },
  {
   "cell_type": "code",
   "execution_count": 8,
   "id": "7268a737",
   "metadata": {},
   "outputs": [
    {
     "data": {
      "text/plain": [
       "failed        168221\n",
       "successful    113081\n",
       "Name: state, dtype: int64"
      ]
     },
     "execution_count": 8,
     "metadata": {},
     "output_type": "execute_result"
    }
   ],
   "source": [
    "# though it we will lose some the data but the rest is enough for us.\n",
    "dataframe['state'].value_counts()"
   ]
  },
  {
   "cell_type": "code",
   "execution_count": 9,
   "id": "ed1d800c",
   "metadata": {
    "scrolled": false
   },
   "outputs": [
    {
     "data": {
      "image/png": "[encoded data removed]",
      "text/plain": [
       "<Figure size 432x288 with 1 Axes>"
      ]
     },
     "metadata": {
      "needs_background": "light"
     },
     "output_type": "display_data"
    }
   ],
   "source": [
    "# plot state distribution\n",
    "dataframe['state'].value_counts().plot(kind='bar')\n",
    "plt.title('State Distribution')\n",
    "plt.show()"
   ]
  },
  {
   "cell_type": "code",
   "execution_count": 10,
   "id": "3f0eab99",
   "metadata": {},
   "outputs": [
    {
     "data": {
      "text/plain": [
       "<AxesSubplot:title={'center':'launched projects per day of week'}, xlabel='launched'>"
      ]
     },
     "execution_count": 10,
     "metadata": {},
     "output_type": "execute_result"
    },
    {
     "data": {
      "image/png": "[encoded data removed]",
      "text/plain": [
       "<Figure size 720x360 with 1 Axes>"
      ]
     },
     "metadata": {
      "needs_background": "light"
     },
     "output_type": "display_data"
    }
   ],
   "source": [
    "# num of launched projects per day of week \n",
    "j=dataframe.groupby([(pd.to_datetime(dataframe.launched).dt.strftime(\"%A\"))]).size()\n",
    "j.plot(kind='bar',figsize=(10,5),title='launched projects per day of week')"
   ]
  },
  {
   "cell_type": "code",
   "execution_count": 11,
   "id": "b700ca04",
   "metadata": {},
   "outputs": [],
   "source": [
    "# total projects per year\n",
    "j=dataframe.groupby([(pd.to_datetime(dataframe.launched).dt.year)]).size()"
   ]
  },
  {
   "cell_type": "code",
   "execution_count": 12,
   "id": "4f2bb0dd",
   "metadata": {},
   "outputs": [
    {
     "data": {
      "text/plain": [
       "<AxesSubplot:title={'center':'Total Projects Per Year'}, xlabel='launched'>"
      ]
     },
     "execution_count": 12,
     "metadata": {},
     "output_type": "execute_result"
    },
    {
     "data": {
      "image/png": "[encoded data removed]",
      "text/plain": [
       "<Figure size 720x360 with 1 Axes>"
      ]
     },
     "metadata": {
      "needs_background": "light"
     },
     "output_type": "display_data"
    }
   ],
   "source": [
    "j.plot(figsize=(10,5),title='Total Projects Per Year')"
   ]
  },
  {
   "cell_type": "code",
   "execution_count": 13,
   "id": "94e7ff9a",
   "metadata": {},
   "outputs": [
    {
     "data": {
      "text/plain": [
       "111"
      ]
     },
     "execution_count": 13,
     "metadata": {},
     "output_type": "execute_result"
    }
   ],
   "source": [
    "# converting into int\n",
    "dataframe['backers']=dataframe['backers'].astype('int64')\n",
    "# average backers\n",
    "int(dataframe['backers'].mean())"
   ]
  },
  {
   "cell_type": "code",
   "execution_count": 14,
   "id": "2d771b53",
   "metadata": {
    "scrolled": false
   },
   "outputs": [
    {
     "data": {
      "text/plain": [
       "<AxesSubplot:xlabel='country', ylabel='main_category'>"
      ]
     },
     "execution_count": 14,
     "metadata": {},
     "output_type": "execute_result"
    },
    {
     "data": {
      "image/png": "[encoded data removed]",
      "text/plain": [
       "<Figure size 432x288 with 2 Axes>"
      ]
     },
     "metadata": {
      "needs_background": "light"
     },
     "output_type": "display_data"
    }
   ],
   "source": [
    "# heat map of average backers by country and main_category\n",
    "pivot_table = dataframe.pivot_table(index='main_category', columns='country', values='backers', aggfunc='mean')\n",
    "sns.heatmap(pivot_table)"
   ]
  },
  {
   "cell_type": "code",
   "execution_count": 15,
   "id": "3833e7e1",
   "metadata": {},
   "outputs": [
    {
     "data": {
      "text/plain": [
       "Film & Video    18.150244\n",
       "Music           14.559441\n",
       "Publishing      10.726906\n",
       "Games            7.962261\n",
       "Art              7.730482\n",
       "Technology       7.610682\n",
       "Design           7.109086\n",
       "Food             6.703827\n",
       "Fashion          5.620294\n",
       "Theater          3.315654\n",
       "Photography      3.073565\n",
       "Comics           2.810147\n",
       "Crafts           2.239941\n",
       "Journalism       1.253457\n",
       "Dance            1.134013\n",
       "Name: main_category, dtype: float64"
      ]
     },
     "execution_count": 15,
     "metadata": {},
     "output_type": "execute_result"
    }
   ],
   "source": [
    "# projects main category ratio\n",
    "(dataframe['main_category'].value_counts()/len(dataframe))*100"
   ]
  },
  {
   "cell_type": "code",
   "execution_count": 16,
   "id": "34acfab1",
   "metadata": {},
   "outputs": [
    {
     "data": {
      "text/plain": [
       "<AxesSubplot:title={'center':'main_category Ratio Distibution'}, ylabel='main_category'>"
      ]
     },
     "execution_count": 16,
     "metadata": {},
     "output_type": "execute_result"
    },
    {
     "data": {
      "image/png": "[encoded data removed]",
      "text/plain": [
       "<Figure size 360x360 with 1 Axes>"
      ]
     },
     "metadata": {},
     "output_type": "display_data"
    }
   ],
   "source": [
    "# plot main category ratio distibution\n",
    "(dataframe['main_category'].value_counts()/len(dataframe)).plot.pie(y='mass', figsize=(5, 5),title='main_category Ratio Distibution')"
   ]
  },
  {
   "cell_type": "code",
   "execution_count": 17,
   "id": "f7c12a2d",
   "metadata": {},
   "outputs": [
    {
     "data": {
      "text/plain": [
       "US      229366\n",
       "GB       23820\n",
       "CA        9899\n",
       "AU        5183\n",
       "DE        2130\n",
       "NL        1869\n",
       "FR        1557\n",
       "IT        1394\n",
       "ES        1089\n",
       "SE        1065\n",
       "NZ         992\n",
       "DK         672\n",
       "IE         472\n",
       "NO         430\n",
       "CH         389\n",
       "BE         329\n",
       "AT         283\n",
       "N,\"0       210\n",
       "SG          69\n",
       "HK          47\n",
       "LU          33\n",
       "MX           4\n",
       "Name: country, dtype: int64"
      ]
     },
     "execution_count": 17,
     "metadata": {},
     "output_type": "execute_result"
    }
   ],
   "source": [
    "# count projects by country\n",
    "dataframe['country'].value_counts()"
   ]
  },
  {
   "cell_type": "code",
   "execution_count": 18,
   "id": "b5120072",
   "metadata": {},
   "outputs": [
    {
     "name": "stderr",
     "output_type": "stream",
     "text": [
      "c:\\users\\hercules\\python\\python38\\lib\\site-packages\\seaborn\\_decorators.py:36: FutureWarning: Pass the following variable as a keyword arg: x. From version 0.12, the only valid positional argument will be `data`, and passing other arguments without an explicit keyword will result in an error or misinterpretation.\n",
      "  warnings.warn(\n"
     ]
    },
    {
     "data": {
      "image/png": "[encoded data removed]",
      "text/plain": [
       "<Figure size 432x432 with 1 Axes>"
      ]
     },
     "metadata": {
      "needs_background": "light"
     },
     "output_type": "display_data"
    }
   ],
   "source": [
    "# plot country distribution\n",
    "sns.catplot('country',data=dataframe, order = dataframe['country'].value_counts().index,kind='count', height=6)\n",
    "plt.title('Country distribution')\n",
    "plt.show()"
   ]
  },
  {
   "cell_type": "code",
   "execution_count": 19,
   "id": "e9882152",
   "metadata": {},
   "outputs": [
    {
     "data": {
      "image/png": "[encoded data removed]",
      "text/plain": [
       "<Figure size 448.125x360 with 1 Axes>"
      ]
     },
     "metadata": {
      "needs_background": "light"
     },
     "output_type": "display_data"
    }
   ],
   "source": [
    "# now country/state distribution.\n",
    "sns.catplot(y=\"country\", hue=\"state\", kind=\"count\",edgecolor=\".6\", data=dataframe, order = dataframe['country'].value_counts().index);\n",
    "plt.title('Country Distribution on basis of State')\n",
    "plt.show()"
   ]
  },
  {
   "cell_type": "code",
   "execution_count": 20,
   "id": "9abe27ec",
   "metadata": {},
   "outputs": [
    {
     "data": {
      "text/plain": [
       "ID                    0\n",
       "name                  3\n",
       "category              0\n",
       "main_category         0\n",
       "currency              0\n",
       "deadline              0\n",
       "goal                  0\n",
       "launched              0\n",
       "pledged               0\n",
       "state                 0\n",
       "backers               0\n",
       "country               0\n",
       "usd pledged         210\n",
       "Unnamed: 13      281302\n",
       "Unnamed: 14      281302\n",
       "Unnamed: 15      281302\n",
       "Unnamed: 16      281302\n",
       "dtype: int64"
      ]
     },
     "execution_count": 20,
     "metadata": {},
     "output_type": "execute_result"
    }
   ],
   "source": [
    "# checking which columns has null values\n",
    "dataframe.isnull().sum()"
   ]
  },
  {
   "cell_type": "code",
   "execution_count": 21,
   "id": "60407c8c",
   "metadata": {},
   "outputs": [
    {
     "data": {
      "text/plain": [
       "0    Product Design\n",
       "dtype: object"
      ]
     },
     "execution_count": 21,
     "metadata": {},
     "output_type": "execute_result"
    }
   ],
   "source": [
    "dataframe['category'].mode()"
   ]
  },
  {
   "cell_type": "code",
   "execution_count": 22,
   "id": "8a2ab34f",
   "metadata": {},
   "outputs": [],
   "source": [
    "#filling the missing data\n",
    "dataframe['category'].fillna('Product design',inplace=True)"
   ]
  },
  {
   "cell_type": "code",
   "execution_count": 23,
   "id": "db38128d",
   "metadata": {},
   "outputs": [],
   "source": [
    "# we will drop the columns that is known just after project is launched like\n",
    "# pledged, backers, usd_pledged_real, etc.\n",
    "# name, ID also are not influcing the machine learning process , so i will delete it as well.\n",
    "dataframe = dataframe.drop(['ID', 'name', 'usd pledged', 'pledged', 'backers','Unnamed: 13','Unnamed: 14','Unnamed: 15','Unnamed: 16'], axis=1)"
   ]
  },
  {
   "cell_type": "code",
   "execution_count": 24,
   "id": "0415e7b3",
   "metadata": {},
   "outputs": [
    {
     "data": {
      "text/html": [
       "<div>\n",
       "<style scoped>\n",
       "    .dataframe tbody tr th:only-of-type {\n",
       "        vertical-align: middle;\n",
       "    }\n",
       "\n",
       "    .dataframe tbody tr th {\n",
       "        vertical-align: top;\n",
       "    }\n",
       "\n",
       "    .dataframe thead th {\n",
       "        text-align: right;\n",
       "    }\n",
       "</style>\n",
       "<table border=\"1\" class=\"dataframe\">\n",
       "  <thead>\n",
       "    <tr style=\"text-align: right;\">\n",
       "      <th></th>\n",
       "      <th>category</th>\n",
       "      <th>main_category</th>\n",
       "      <th>currency</th>\n",
       "      <th>deadline</th>\n",
       "      <th>goal</th>\n",
       "      <th>launched</th>\n",
       "      <th>state</th>\n",
       "      <th>country</th>\n",
       "    </tr>\n",
       "  </thead>\n",
       "  <tbody>\n",
       "    <tr>\n",
       "      <th>0</th>\n",
       "      <td>Poetry</td>\n",
       "      <td>Publishing</td>\n",
       "      <td>GBP</td>\n",
       "      <td>2015-10-09 11:36:00</td>\n",
       "      <td>1000</td>\n",
       "      <td>2015-08-11 12:12:28</td>\n",
       "      <td>failed</td>\n",
       "      <td>GB</td>\n",
       "    </tr>\n",
       "    <tr>\n",
       "      <th>1</th>\n",
       "      <td>Narrative Film</td>\n",
       "      <td>Film &amp; Video</td>\n",
       "      <td>USD</td>\n",
       "      <td>2013-02-26 00:20:50</td>\n",
       "      <td>45000</td>\n",
       "      <td>2013-01-12 00:20:50</td>\n",
       "      <td>failed</td>\n",
       "      <td>US</td>\n",
       "    </tr>\n",
       "    <tr>\n",
       "      <th>2</th>\n",
       "      <td>Music</td>\n",
       "      <td>Music</td>\n",
       "      <td>USD</td>\n",
       "      <td>2012-04-16 04:24:11</td>\n",
       "      <td>5000</td>\n",
       "      <td>2012-03-17 03:24:11</td>\n",
       "      <td>failed</td>\n",
       "      <td>US</td>\n",
       "    </tr>\n",
       "    <tr>\n",
       "      <th>3</th>\n",
       "      <td>Restaurants</td>\n",
       "      <td>Food</td>\n",
       "      <td>USD</td>\n",
       "      <td>2016-04-01 13:38:27</td>\n",
       "      <td>50000</td>\n",
       "      <td>2016-02-26 13:38:27</td>\n",
       "      <td>successful</td>\n",
       "      <td>US</td>\n",
       "    </tr>\n",
       "    <tr>\n",
       "      <th>4</th>\n",
       "      <td>Food</td>\n",
       "      <td>Food</td>\n",
       "      <td>USD</td>\n",
       "      <td>2014-12-21 18:30:44</td>\n",
       "      <td>1000</td>\n",
       "      <td>2014-12-01 18:30:44</td>\n",
       "      <td>successful</td>\n",
       "      <td>US</td>\n",
       "    </tr>\n",
       "  </tbody>\n",
       "</table>\n",
       "</div>"
      ],
      "text/plain": [
       "         category main_category currency             deadline   goal  \\\n",
       "0          Poetry    Publishing      GBP  2015-10-09 11:36:00   1000   \n",
       "1  Narrative Film  Film & Video      USD  2013-02-26 00:20:50  45000   \n",
       "2           Music         Music      USD  2012-04-16 04:24:11   5000   \n",
       "3     Restaurants          Food      USD  2016-04-01 13:38:27  50000   \n",
       "4            Food          Food      USD  2014-12-21 18:30:44   1000   \n",
       "\n",
       "              launched       state country  \n",
       "0  2015-08-11 12:12:28      failed      GB  \n",
       "1  2013-01-12 00:20:50      failed      US  \n",
       "2  2012-03-17 03:24:11      failed      US  \n",
       "3  2016-02-26 13:38:27  successful      US  \n",
       "4  2014-12-01 18:30:44  successful      US  "
      ]
     },
     "execution_count": 24,
     "metadata": {},
     "output_type": "execute_result"
    }
   ],
   "source": [
    "dataframe.head()"
   ]
  },
  {
   "cell_type": "markdown",
   "id": "9b5f1868",
   "metadata": {},
   "source": [
    "## Label Encoding"
   ]
  },
  {
   "cell_type": "code",
   "execution_count": 25,
   "id": "338f24eb",
   "metadata": {},
   "outputs": [],
   "source": [
    "# encode string values to integers for the macheine learning purpose\n",
    "countryTransformer = preprocessing.LabelEncoder()\n",
    "currencyTransformer = preprocessing.LabelEncoder()\n",
    "main_categoryTransformer = preprocessing.LabelEncoder()\n",
    "categoryTransformer = preprocessing.LabelEncoder()\n",
    "\n",
    "\n",
    "#Fit-Transforming values into numerics\n",
    "dataframe['country'] = countryTransformer.fit_transform(dataframe['country'])\n",
    "dataframe['currency'] = currencyTransformer.fit_transform(dataframe['currency'])\n",
    "dataframe['main_category'] = main_categoryTransformer.fit_transform(dataframe['main_category'])\n",
    "dataframe['category'] = categoryTransformer.fit_transform(dataframe['category'])"
   ]
  },
  {
   "cell_type": "code",
   "execution_count": 26,
   "id": "3a7c940c",
   "metadata": {},
   "outputs": [],
   "source": [
    "# convert dates to Unix time in nano seconds\n",
    "dataframe[\"launched\"] = pd.to_datetime(dataframe[\"launched\"])\n",
    "dataframe[\"deadline\"] = pd.to_datetime(dataframe[\"deadline\"])\n",
    "dataframe[\"deadline\"] =  dataframe.deadline.values.astype(np.int64)\n",
    "dataframe[\"launched\"] =  dataframe.launched.values.astype(np.int64)\n",
    "dataframe[\"goal\"] =  dataframe.goal.values.astype(np.float64)\n",
    "\n",
    "\n",
    "# and now i will add a new feature based on deadline and launched\n",
    "# project_length will be deadline - launched\n",
    "dataframe[\"project_length\"] = dataframe[\"deadline\"] - dataframe[\"launched\"]"
   ]
  },
  {
   "cell_type": "code",
   "execution_count": 27,
   "id": "9c03862b",
   "metadata": {},
   "outputs": [
    {
     "name": "stdout",
     "output_type": "stream",
     "text": [
      "<class 'pandas.core.frame.DataFrame'>\n",
      "RangeIndex: 281302 entries, 0 to 281301\n",
      "Data columns (total 9 columns):\n",
      " #   Column          Non-Null Count   Dtype  \n",
      "---  ------          --------------   -----  \n",
      " 0   category        281302 non-null  int32  \n",
      " 1   main_category   281302 non-null  int32  \n",
      " 2   currency        281302 non-null  int32  \n",
      " 3   deadline        281302 non-null  int64  \n",
      " 4   goal            281302 non-null  float64\n",
      " 5   launched        281302 non-null  int64  \n",
      " 6   state           281302 non-null  object \n",
      " 7   country         281302 non-null  int32  \n",
      " 8   project_length  281302 non-null  int64  \n",
      "dtypes: float64(1), int32(4), int64(3), object(1)\n",
      "memory usage: 15.0+ MB\n"
     ]
    }
   ],
   "source": [
    "dataframe.info()"
   ]
  },
  {
   "cell_type": "code",
   "execution_count": 28,
   "id": "7f8b2534",
   "metadata": {},
   "outputs": [],
   "source": [
    "# and now there is no need for deadline and launched\n",
    "dataframe = dataframe.drop(['deadline', 'launched'], axis=1)"
   ]
  },
  {
   "cell_type": "code",
   "execution_count": 29,
   "id": "961001d4",
   "metadata": {},
   "outputs": [
    {
     "data": {
      "text/html": [
       "<div>\n",
       "<style scoped>\n",
       "    .dataframe tbody tr th:only-of-type {\n",
       "        vertical-align: middle;\n",
       "    }\n",
       "\n",
       "    .dataframe tbody tr th {\n",
       "        vertical-align: top;\n",
       "    }\n",
       "\n",
       "    .dataframe thead th {\n",
       "        text-align: right;\n",
       "    }\n",
       "</style>\n",
       "<table border=\"1\" class=\"dataframe\">\n",
       "  <thead>\n",
       "    <tr style=\"text-align: right;\">\n",
       "      <th></th>\n",
       "      <th>category</th>\n",
       "      <th>main_category</th>\n",
       "      <th>currency</th>\n",
       "      <th>goal</th>\n",
       "      <th>state</th>\n",
       "      <th>country</th>\n",
       "      <th>project_length</th>\n",
       "    </tr>\n",
       "  </thead>\n",
       "  <tbody>\n",
       "    <tr>\n",
       "      <th>0</th>\n",
       "      <td>107</td>\n",
       "      <td>12</td>\n",
       "      <td>5</td>\n",
       "      <td>1000.0</td>\n",
       "      <td>failed</td>\n",
       "      <td>9</td>\n",
       "      <td>5095412000000000</td>\n",
       "    </tr>\n",
       "    <tr>\n",
       "      <th>1</th>\n",
       "      <td>92</td>\n",
       "      <td>6</td>\n",
       "      <td>12</td>\n",
       "      <td>45000.0</td>\n",
       "      <td>failed</td>\n",
       "      <td>21</td>\n",
       "      <td>3888000000000000</td>\n",
       "    </tr>\n",
       "    <tr>\n",
       "      <th>2</th>\n",
       "      <td>89</td>\n",
       "      <td>10</td>\n",
       "      <td>12</td>\n",
       "      <td>5000.0</td>\n",
       "      <td>failed</td>\n",
       "      <td>21</td>\n",
       "      <td>2595600000000000</td>\n",
       "    </tr>\n",
       "    <tr>\n",
       "      <th>3</th>\n",
       "      <td>122</td>\n",
       "      <td>7</td>\n",
       "      <td>12</td>\n",
       "      <td>50000.0</td>\n",
       "      <td>successful</td>\n",
       "      <td>21</td>\n",
       "      <td>3024000000000000</td>\n",
       "    </tr>\n",
       "    <tr>\n",
       "      <th>4</th>\n",
       "      <td>58</td>\n",
       "      <td>7</td>\n",
       "      <td>12</td>\n",
       "      <td>1000.0</td>\n",
       "      <td>successful</td>\n",
       "      <td>21</td>\n",
       "      <td>1728000000000000</td>\n",
       "    </tr>\n",
       "  </tbody>\n",
       "</table>\n",
       "</div>"
      ],
      "text/plain": [
       "   category  main_category  currency     goal       state  country  \\\n",
       "0       107             12         5   1000.0      failed        9   \n",
       "1        92              6        12  45000.0      failed       21   \n",
       "2        89             10        12   5000.0      failed       21   \n",
       "3       122              7        12  50000.0  successful       21   \n",
       "4        58              7        12   1000.0  successful       21   \n",
       "\n",
       "     project_length  \n",
       "0  5095412000000000  \n",
       "1  3888000000000000  \n",
       "2  2595600000000000  \n",
       "3  3024000000000000  \n",
       "4  1728000000000000  "
      ]
     },
     "execution_count": 29,
     "metadata": {},
     "output_type": "execute_result"
    }
   ],
   "source": [
    "dataframe.head()"
   ]
  },
  {
   "cell_type": "markdown",
   "id": "a52db626",
   "metadata": {},
   "source": [
    "## Splitting Data"
   ]
  },
  {
   "cell_type": "code",
   "execution_count": 30,
   "id": "909cf1f0",
   "metadata": {},
   "outputs": [],
   "source": [
    "# X is the dataframe without the state column\n",
    "X = dataframe.drop('state', axis=1)\n",
    "\n",
    "# Y is the state column\n",
    "Y = dataframe['state']"
   ]
  },
  {
   "cell_type": "code",
   "execution_count": 31,
   "id": "c0b42215",
   "metadata": {},
   "outputs": [],
   "source": [
    "# here we are splitting the data into 80% and 20%\n",
    "# 80% is for the model training X_train, Y_train\n",
    "# 20% is for the model testing X_test, Y_test\n",
    "# we will predict the state of X_test and compare it to the real data Y_test\n",
    "X_train, X_test, Y_train, Y_test = train_test_split(X, Y, test_size=0.2)"
   ]
  },
  {
   "cell_type": "code",
   "execution_count": 32,
   "id": "3a145678",
   "metadata": {},
   "outputs": [
    {
     "name": "stdout",
     "output_type": "stream",
     "text": [
      "==============================\n",
      "DecisionTreeClassifier\n",
      "Accuracy: 62.71%\n",
      "==============================\n",
      "GradientBoostingClassifier\n",
      "Accuracy: 67.35%\n",
      "==============================\n",
      "KNeighborsClassifier\n",
      "Accuracy: 61.07%\n",
      "==============================\n",
      "RandomForestClassifier\n",
      "Accuracy: 64.51%\n",
      "==============================\n",
      "GaussianNB\n",
      "Accuracy: 59.62%\n",
      "==============================\n",
      "Finish\n"
     ]
    }
   ],
   "source": [
    "# now let us check multiple classification machine learning models\n",
    "\n",
    "\n",
    "# prepare models\n",
    "classifiers = [\n",
    "    DecisionTreeClassifier(),\n",
    "    GradientBoostingClassifier(),\n",
    "    KNeighborsClassifier(),\n",
    "    RandomForestClassifier(),\n",
    "    GaussianNB()\n",
    "]\n",
    "\n",
    "# evaluate one by one to check who is the most accurate \n",
    "for clf in classifiers:\n",
    "    clf.fit(X_train, Y_train)\n",
    "    \n",
    "    print(\"=\"*30)\n",
    "    print(clf.__class__.__name__)\n",
    "    # __class__.__name__ is to avoide to print the hole name and class of it.\n",
    "    \n",
    "    prediction = clf.predict(X_test)\n",
    "    acc = accuracy_score(Y_test, prediction)\n",
    "    \n",
    "    print(\"Accuracy: {:.2%}\".format(acc))\n",
    "\n",
    "print(\"=\"*30)\n",
    "print('Finish')"
   ]
  },
  {
   "cell_type": "markdown",
   "id": "6f24b8a6",
   "metadata": {},
   "source": [
    "## Data Tuning"
   ]
  },
  {
   "cell_type": "code",
   "execution_count": 33,
   "id": "4f9647f6",
   "metadata": {
    "scrolled": true
   },
   "outputs": [
    {
     "name": "stdout",
     "output_type": "stream",
     "text": [
      "==============================\n",
      "0.01\n",
      "Accuracy: 62.72%\n",
      "0.6271840173477187\n",
      "==============================\n",
      "0.1\n",
      "Accuracy: 67.35%\n",
      "0.6734860738344501\n",
      "==============================\n",
      "0.25\n",
      "Accuracy: 68.06%\n",
      "0.6805602459963385\n",
      "==============================\n",
      "0.5\n",
      "Accuracy: 68.17%\n",
      "0.6817155756207675\n",
      "==============================\n",
      "0.75\n",
      "Accuracy: 68.38%\n",
      "0.6837596203409111\n",
      "==============================\n",
      "1\n",
      "Accuracy: 68.21%\n",
      "0.6821421588667105\n",
      "==============================\n",
      "Finish\n"
     ]
    }
   ],
   "source": [
    "# we can see that GradientBoostingClassifier is the most accurist model\n",
    "# so lets perform fine tuning on the learning_rate attribute of the model\n",
    "\n",
    "learning_rates = [0.01, 0.1, 0.25, 0.5,0.75, 1]\n",
    "for lrn in learning_rates:\n",
    "    \n",
    "    clf = GradientBoostingClassifier(learning_rate=lrn)\n",
    "    clf.fit(X_train, Y_train)\n",
    "    \n",
    "    print(\"=\"*30)\n",
    "    print(lrn)\n",
    "    \n",
    "    prediction = clf.predict(X_test)\n",
    "    acc = accuracy_score(Y_test, prediction)\n",
    "    print(\"Accuracy: {:.2%}\".format(acc))\n",
    "    \n",
    "    \n",
    "print(\"=\"*30)\n",
    "print('Finish')"
   ]
  },
  {
   "cell_type": "markdown",
   "id": "9ebb03fc",
   "metadata": {},
   "source": [
    "## Fitting the Data with best Learning rate"
   ]
  },
  {
   "cell_type": "code",
   "execution_count": 34,
   "id": "3de83b1c",
   "metadata": {},
   "outputs": [
    {
     "name": "stdout",
     "output_type": "stream",
     "text": [
      "****Final Results****\n",
      "Accuracy: 68.38%\n"
     ]
    }
   ],
   "source": [
    "# we will use the best performance learning rate\n",
    "\n",
    "clf = GradientBoostingClassifier(learning_rate=0.75)\n",
    "clf.fit(X_train, Y_train)\n",
    "\n",
    "print('****Final Results****')\n",
    "prediction = clf.predict(X_test)\n",
    "acc = accuracy_score(Y_test, prediction)\n",
    "print(\"Accuracy: {:.2%}\".format(acc))"
   ]
  },
  {
   "cell_type": "code",
   "execution_count": 35,
   "id": "75397b08",
   "metadata": {},
   "outputs": [
    {
     "data": {
      "text/plain": [
       "array([['failed', 'failed'],\n",
       "       ['successful', 'failed'],\n",
       "       ['failed', 'failed'],\n",
       "       ...,\n",
       "       ['failed', 'failed'],\n",
       "       ['failed', 'successful'],\n",
       "       ['successful', 'successful']], dtype=object)"
      ]
     },
     "execution_count": 35,
     "metadata": {},
     "output_type": "execute_result"
    }
   ],
   "source": [
    "# comparing prediction to true data\n",
    "np.column_stack((prediction,Y_test))"
   ]
  },
  {
   "cell_type": "markdown",
   "id": "c2c17e95",
   "metadata": {},
   "source": [
    "## Feature Importance"
   ]
  },
  {
   "cell_type": "code",
   "execution_count": 36,
   "id": "1a381c03",
   "metadata": {
    "scrolled": true
   },
   "outputs": [
    {
     "data": {
      "text/plain": [
       "<AxesSubplot:title={'center':'Feature Importance Distribution'}>"
      ]
     },
     "execution_count": 36,
     "metadata": {},
     "output_type": "execute_result"
    },
    {
     "data": {
      "image/png": "[encoded data removed]",
      "text/plain": [
       "<Figure size 432x288 with 1 Axes>"
      ]
     },
     "metadata": {
      "needs_background": "light"
     },
     "output_type": "display_data"
    }
   ],
   "source": [
    "# Feature Importance is used to analise the importance of that perticular column.\n",
    "# let us see the feature importance order of the predition model.\n",
    "feats = {}\n",
    "for feature, importance in zip(X_train.columns, clf.feature_importances_):\n",
    "    feats[feature] = importance #add the name/value pair \n",
    "\n",
    "\n",
    "importances = pd.DataFrame.from_dict(feats, orient='index').rename(columns={0: 'Feature-importance'})\n",
    "importances.sort_values(by='Feature-importance').plot(kind='bar', rot=45,title='Feature Importance Distribution')"
   ]
  },
  {
   "cell_type": "markdown",
   "id": "d5f78c00",
   "metadata": {},
   "source": [
    "## Testing on New data"
   ]
  },
  {
   "cell_type": "code",
   "execution_count": 37,
   "id": "d674b42a",
   "metadata": {},
   "outputs": [],
   "source": [
    "futureData = pd.DataFrame(columns=['category', 'main_category', 'currency', 'country', 'deadline', 'goal', 'launched'])\n",
    "futureData.loc[0] = ['Restaurants', 'Food', 'GBP', 'US', '2019-07-30', '60000.0', '2019-04-01 12:00:00']"
   ]
  },
  {
   "cell_type": "code",
   "execution_count": 38,
   "id": "ab044245",
   "metadata": {},
   "outputs": [
    {
     "data": {
      "text/html": [
       "<div>\n",
       "<style scoped>\n",
       "    .dataframe tbody tr th:only-of-type {\n",
       "        vertical-align: middle;\n",
       "    }\n",
       "\n",
       "    .dataframe tbody tr th {\n",
       "        vertical-align: top;\n",
       "    }\n",
       "\n",
       "    .dataframe thead th {\n",
       "        text-align: right;\n",
       "    }\n",
       "</style>\n",
       "<table border=\"1\" class=\"dataframe\">\n",
       "  <thead>\n",
       "    <tr style=\"text-align: right;\">\n",
       "      <th></th>\n",
       "      <th>category</th>\n",
       "      <th>main_category</th>\n",
       "      <th>currency</th>\n",
       "      <th>country</th>\n",
       "      <th>deadline</th>\n",
       "      <th>goal</th>\n",
       "      <th>launched</th>\n",
       "    </tr>\n",
       "  </thead>\n",
       "  <tbody>\n",
       "    <tr>\n",
       "      <th>0</th>\n",
       "      <td>Restaurants</td>\n",
       "      <td>Food</td>\n",
       "      <td>GBP</td>\n",
       "      <td>US</td>\n",
       "      <td>2019-07-30</td>\n",
       "      <td>60000.0</td>\n",
       "      <td>2019-04-01 12:00:00</td>\n",
       "    </tr>\n",
       "  </tbody>\n",
       "</table>\n",
       "</div>"
      ],
      "text/plain": [
       "      category main_category currency country    deadline     goal  \\\n",
       "0  Restaurants          Food      GBP      US  2019-07-30  60000.0   \n",
       "\n",
       "              launched  \n",
       "0  2019-04-01 12:00:00  "
      ]
     },
     "execution_count": 38,
     "metadata": {},
     "output_type": "execute_result"
    }
   ],
   "source": [
    "futureData.head()"
   ]
  },
  {
   "cell_type": "code",
   "execution_count": 39,
   "id": "7d7c8a18",
   "metadata": {},
   "outputs": [],
   "source": [
    "futureData['category'] = categoryTransformer.transform(futureData['category'])\n",
    "futureData['main_category'] = main_categoryTransformer.transform(futureData['main_category'])\n",
    "futureData['currency'] = currencyTransformer.transform(futureData['currency'])\n",
    "futureData['country'] = countryTransformer.transform(futureData['country'])"
   ]
  },
  {
   "cell_type": "code",
   "execution_count": 40,
   "id": "a9684389",
   "metadata": {},
   "outputs": [],
   "source": [
    "futureData[\"launched\"] = pd.to_datetime(futureData[\"launched\"])\n",
    "futureData[\"deadline\"] = pd.to_datetime(futureData[\"deadline\"])\n",
    "futureData[\"deadline\"] =  futureData.deadline.values.astype(np.int64)\n",
    "futureData[\"launched\"] =  futureData.launched.values.astype(np.int64)"
   ]
  },
  {
   "cell_type": "code",
   "execution_count": 41,
   "id": "1876ef92",
   "metadata": {},
   "outputs": [],
   "source": [
    "futureData[\"project_length\"] = futureData[\"deadline\"] - futureData[\"launched\"]\n",
    "futureData = futureData.drop(['deadline', 'launched'], axis=1)"
   ]
  },
  {
   "cell_type": "code",
   "execution_count": 42,
   "id": "66ff9974",
   "metadata": {
    "scrolled": true
   },
   "outputs": [
    {
     "data": {
      "text/html": [
       "<div>\n",
       "<style scoped>\n",
       "    .dataframe tbody tr th:only-of-type {\n",
       "        vertical-align: middle;\n",
       "    }\n",
       "\n",
       "    .dataframe tbody tr th {\n",
       "        vertical-align: top;\n",
       "    }\n",
       "\n",
       "    .dataframe thead th {\n",
       "        text-align: right;\n",
       "    }\n",
       "</style>\n",
       "<table border=\"1\" class=\"dataframe\">\n",
       "  <thead>\n",
       "    <tr style=\"text-align: right;\">\n",
       "      <th></th>\n",
       "      <th>category</th>\n",
       "      <th>main_category</th>\n",
       "      <th>currency</th>\n",
       "      <th>country</th>\n",
       "      <th>goal</th>\n",
       "      <th>project_length</th>\n",
       "    </tr>\n",
       "  </thead>\n",
       "  <tbody>\n",
       "    <tr>\n",
       "      <th>0</th>\n",
       "      <td>122</td>\n",
       "      <td>7</td>\n",
       "      <td>5</td>\n",
       "      <td>21</td>\n",
       "      <td>60000.0</td>\n",
       "      <td>10324800000000000</td>\n",
       "    </tr>\n",
       "  </tbody>\n",
       "</table>\n",
       "</div>"
      ],
      "text/plain": [
       "   category  main_category  currency  country     goal     project_length\n",
       "0       122              7         5       21  60000.0  10324800000000000"
      ]
     },
     "execution_count": 42,
     "metadata": {},
     "output_type": "execute_result"
    }
   ],
   "source": [
    "futureData.head()"
   ]
  },
  {
   "cell_type": "markdown",
   "id": "7c5d412c",
   "metadata": {},
   "source": [
    "## Predicting new data with our best model"
   ]
  },
  {
   "cell_type": "code",
   "execution_count": 43,
   "id": "c74640e6",
   "metadata": {},
   "outputs": [
    {
     "data": {
      "text/plain": [
       "array(['failed'], dtype=object)"
      ]
     },
     "execution_count": 43,
     "metadata": {},
     "output_type": "execute_result"
    }
   ],
   "source": [
    "prediction = clf.predict(futureData)\n",
    "prediction"
   ]
  },
  {
   "cell_type": "code",
   "execution_count": null,
   "id": "f8434036",
   "metadata": {},
   "outputs": [],
   "source": []
  }
 ],
 "metadata": {
  "kernelspec": {
   "display_name": "Python 3 (ipykernel)",
   "language": "python",
   "name": "python3"
  },
  "language_info": {
   "codemirror_mode": {
    "name": "ipython",
    "version": 3
   },
   "file_extension": ".py",
   "mimetype": "text/x-python",
   "name": "python",
   "nbconvert_exporter": "python",
   "pygments_lexer": "ipython3",
   "version": "3.8.10"
  }
 },
 "nbformat": 4,
 "nbformat_minor": 5
}
